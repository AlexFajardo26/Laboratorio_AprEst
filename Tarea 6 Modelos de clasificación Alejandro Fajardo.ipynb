{
 "cells": [
  {
   "cell_type": "code",
   "execution_count": 1,
   "id": "3fdef41c",
   "metadata": {},
   "outputs": [],
   "source": [
    "import pandas as pd\n",
    "import numpy as np\n",
    "import matplotlib.pyplot as plt\n",
    "from sklearn.model_selection import train_test_split\n",
    "from sklearn import linear_model\n",
    "from sklearn.metrics import roc_curve\n",
    "from sklearn.metrics import roc_auc_score\n",
    "from sklearn.preprocessing import PolynomialFeatures\n",
    "from sklearn.preprocessing import StandardScaler\n",
    "from sklearn.pipeline import Pipeline\n",
    "from sklearn import discriminant_analysis\n",
    "from sklearn.neighbors import KNeighborsClassifier\n",
    "from sklearn import neighbors"
   ]
  },
  {
   "cell_type": "markdown",
   "id": "b8d58603",
   "metadata": {},
   "source": [
    "## Datos"
   ]
  },
  {
   "cell_type": "code",
   "execution_count": 2,
   "id": "b8d05ac5",
   "metadata": {},
   "outputs": [
    {
     "data": {
      "text/html": [
       "<div>\n",
       "<style scoped>\n",
       "    .dataframe tbody tr th:only-of-type {\n",
       "        vertical-align: middle;\n",
       "    }\n",
       "\n",
       "    .dataframe tbody tr th {\n",
       "        vertical-align: top;\n",
       "    }\n",
       "\n",
       "    .dataframe thead th {\n",
       "        text-align: right;\n",
       "    }\n",
       "</style>\n",
       "<table border=\"1\" class=\"dataframe\">\n",
       "  <thead>\n",
       "    <tr style=\"text-align: right;\">\n",
       "      <th></th>\n",
       "      <th>Age</th>\n",
       "      <th>Gender</th>\n",
       "      <th>BMI</th>\n",
       "      <th>Smoking</th>\n",
       "      <th>AlcoholConsumption</th>\n",
       "      <th>PhysicalActivity</th>\n",
       "      <th>DietQuality</th>\n",
       "      <th>SleepQuality</th>\n",
       "      <th>FamilyHistoryAlzheimers</th>\n",
       "      <th>CardiovascularDisease</th>\n",
       "      <th>...</th>\n",
       "      <th>Forgetfulness</th>\n",
       "      <th>Diagnosis</th>\n",
       "      <th>Ethnicity_0</th>\n",
       "      <th>Ethnicity_1</th>\n",
       "      <th>Ethnicity_2</th>\n",
       "      <th>Ethnicity_3</th>\n",
       "      <th>EducationLevel_0</th>\n",
       "      <th>EducationLevel_1</th>\n",
       "      <th>EducationLevel_2</th>\n",
       "      <th>EducationLevel_3</th>\n",
       "    </tr>\n",
       "  </thead>\n",
       "  <tbody>\n",
       "    <tr>\n",
       "      <th>0</th>\n",
       "      <td>73</td>\n",
       "      <td>0</td>\n",
       "      <td>22.927749</td>\n",
       "      <td>0</td>\n",
       "      <td>13.297218</td>\n",
       "      <td>6.327112</td>\n",
       "      <td>1.347214</td>\n",
       "      <td>9.025679</td>\n",
       "      <td>0</td>\n",
       "      <td>0</td>\n",
       "      <td>...</td>\n",
       "      <td>0</td>\n",
       "      <td>0</td>\n",
       "      <td>1</td>\n",
       "      <td>0</td>\n",
       "      <td>0</td>\n",
       "      <td>0</td>\n",
       "      <td>0</td>\n",
       "      <td>0</td>\n",
       "      <td>1</td>\n",
       "      <td>0</td>\n",
       "    </tr>\n",
       "    <tr>\n",
       "      <th>1</th>\n",
       "      <td>89</td>\n",
       "      <td>0</td>\n",
       "      <td>26.827681</td>\n",
       "      <td>0</td>\n",
       "      <td>4.542524</td>\n",
       "      <td>7.619885</td>\n",
       "      <td>0.518767</td>\n",
       "      <td>7.151293</td>\n",
       "      <td>0</td>\n",
       "      <td>0</td>\n",
       "      <td>...</td>\n",
       "      <td>1</td>\n",
       "      <td>0</td>\n",
       "      <td>1</td>\n",
       "      <td>0</td>\n",
       "      <td>0</td>\n",
       "      <td>0</td>\n",
       "      <td>1</td>\n",
       "      <td>0</td>\n",
       "      <td>0</td>\n",
       "      <td>0</td>\n",
       "    </tr>\n",
       "    <tr>\n",
       "      <th>2</th>\n",
       "      <td>73</td>\n",
       "      <td>0</td>\n",
       "      <td>17.795882</td>\n",
       "      <td>0</td>\n",
       "      <td>19.555085</td>\n",
       "      <td>7.844988</td>\n",
       "      <td>1.826335</td>\n",
       "      <td>9.673574</td>\n",
       "      <td>1</td>\n",
       "      <td>0</td>\n",
       "      <td>...</td>\n",
       "      <td>0</td>\n",
       "      <td>0</td>\n",
       "      <td>0</td>\n",
       "      <td>0</td>\n",
       "      <td>0</td>\n",
       "      <td>1</td>\n",
       "      <td>0</td>\n",
       "      <td>1</td>\n",
       "      <td>0</td>\n",
       "      <td>0</td>\n",
       "    </tr>\n",
       "    <tr>\n",
       "      <th>3</th>\n",
       "      <td>74</td>\n",
       "      <td>1</td>\n",
       "      <td>33.800817</td>\n",
       "      <td>1</td>\n",
       "      <td>12.209266</td>\n",
       "      <td>8.428001</td>\n",
       "      <td>7.435604</td>\n",
       "      <td>8.392554</td>\n",
       "      <td>0</td>\n",
       "      <td>0</td>\n",
       "      <td>...</td>\n",
       "      <td>0</td>\n",
       "      <td>0</td>\n",
       "      <td>1</td>\n",
       "      <td>0</td>\n",
       "      <td>0</td>\n",
       "      <td>0</td>\n",
       "      <td>0</td>\n",
       "      <td>1</td>\n",
       "      <td>0</td>\n",
       "      <td>0</td>\n",
       "    </tr>\n",
       "    <tr>\n",
       "      <th>4</th>\n",
       "      <td>89</td>\n",
       "      <td>0</td>\n",
       "      <td>20.716974</td>\n",
       "      <td>0</td>\n",
       "      <td>18.454356</td>\n",
       "      <td>6.310461</td>\n",
       "      <td>0.795498</td>\n",
       "      <td>5.597238</td>\n",
       "      <td>0</td>\n",
       "      <td>0</td>\n",
       "      <td>...</td>\n",
       "      <td>0</td>\n",
       "      <td>0</td>\n",
       "      <td>1</td>\n",
       "      <td>0</td>\n",
       "      <td>0</td>\n",
       "      <td>0</td>\n",
       "      <td>1</td>\n",
       "      <td>0</td>\n",
       "      <td>0</td>\n",
       "      <td>0</td>\n",
       "    </tr>\n",
       "  </tbody>\n",
       "</table>\n",
       "<p>5 rows × 39 columns</p>\n",
       "</div>"
      ],
      "text/plain": [
       "   Age  Gender        BMI  Smoking  AlcoholConsumption  PhysicalActivity  \\\n",
       "0   73       0  22.927749        0           13.297218          6.327112   \n",
       "1   89       0  26.827681        0            4.542524          7.619885   \n",
       "2   73       0  17.795882        0           19.555085          7.844988   \n",
       "3   74       1  33.800817        1           12.209266          8.428001   \n",
       "4   89       0  20.716974        0           18.454356          6.310461   \n",
       "\n",
       "   DietQuality  SleepQuality  FamilyHistoryAlzheimers  CardiovascularDisease  \\\n",
       "0     1.347214      9.025679                        0                      0   \n",
       "1     0.518767      7.151293                        0                      0   \n",
       "2     1.826335      9.673574                        1                      0   \n",
       "3     7.435604      8.392554                        0                      0   \n",
       "4     0.795498      5.597238                        0                      0   \n",
       "\n",
       "   ...  Forgetfulness  Diagnosis  Ethnicity_0  Ethnicity_1  Ethnicity_2  \\\n",
       "0  ...              0          0            1            0            0   \n",
       "1  ...              1          0            1            0            0   \n",
       "2  ...              0          0            0            0            0   \n",
       "3  ...              0          0            1            0            0   \n",
       "4  ...              0          0            1            0            0   \n",
       "\n",
       "   Ethnicity_3  EducationLevel_0  EducationLevel_1  EducationLevel_2  \\\n",
       "0            0                 0                 0                 1   \n",
       "1            0                 1                 0                 0   \n",
       "2            1                 0                 1                 0   \n",
       "3            0                 0                 1                 0   \n",
       "4            0                 1                 0                 0   \n",
       "\n",
       "   EducationLevel_3  \n",
       "0                 0  \n",
       "1                 0  \n",
       "2                 0  \n",
       "3                 0  \n",
       "4                 0  \n",
       "\n",
       "[5 rows x 39 columns]"
      ]
     },
     "execution_count": 2,
     "metadata": {},
     "output_type": "execute_result"
    }
   ],
   "source": [
    "data = pd.read_csv('alzheimers_disease_data.csv')\n",
    "df = data.drop(['PatientID', 'DoctorInCharge'], axis=1)\n",
    "df = pd.get_dummies(df, columns=['Ethnicity', 'EducationLevel'])\n",
    "df.head()"
   ]
  },
  {
   "cell_type": "code",
   "execution_count": 3,
   "id": "89d96d48",
   "metadata": {},
   "outputs": [],
   "source": [
    "target = 'Diagnosis'\n",
    "X = df.drop(target, axis=1)\n",
    "y = df[target]"
   ]
  },
  {
   "cell_type": "markdown",
   "id": "33fa24a1",
   "metadata": {},
   "source": [
    "## Modelos"
   ]
  },
  {
   "cell_type": "markdown",
   "id": "876107b9",
   "metadata": {},
   "source": [
    "### Regresión Logistica"
   ]
  },
  {
   "cell_type": "code",
   "execution_count": 4,
   "id": "76cb0231",
   "metadata": {},
   "outputs": [
    {
     "name": "stderr",
     "output_type": "stream",
     "text": [
      "C:\\Users\\Alejandro\\.conda\\Lib\\site-packages\\sklearn\\linear_model\\_logistic.py:460: ConvergenceWarning: lbfgs failed to converge (status=1):\n",
      "STOP: TOTAL NO. of ITERATIONS REACHED LIMIT.\n",
      "\n",
      "Increase the number of iterations (max_iter) or scale the data as shown in:\n",
      "    https://scikit-learn.org/stable/modules/preprocessing.html\n",
      "Please also refer to the documentation for alternative solver options:\n",
      "    https://scikit-learn.org/stable/modules/linear_model.html#logistic-regression\n",
      "  n_iter_i = _check_optimize_result(\n"
     ]
    }
   ],
   "source": [
    "X_train, X_test, y_train, y_test = train_test_split(X, y, test_size = 0.3, random_state=42)\n",
    "model = linear_model.LogisticRegression()\n",
    "model.fit(X_train, y_train)\n",
    "\n",
    "probabilidades1 = model.predict_proba(X_test)[:, 1]"
   ]
  },
  {
   "cell_type": "markdown",
   "id": "1077ff22",
   "metadata": {},
   "source": [
    "#### Coeficientes"
   ]
  },
  {
   "cell_type": "code",
   "execution_count": 5,
   "id": "8b2bd802",
   "metadata": {},
   "outputs": [
    {
     "data": {
      "text/html": [
       "<div>\n",
       "<style scoped>\n",
       "    .dataframe tbody tr th:only-of-type {\n",
       "        vertical-align: middle;\n",
       "    }\n",
       "\n",
       "    .dataframe tbody tr th {\n",
       "        vertical-align: top;\n",
       "    }\n",
       "\n",
       "    .dataframe thead th {\n",
       "        text-align: right;\n",
       "    }\n",
       "</style>\n",
       "<table border=\"1\" class=\"dataframe\">\n",
       "  <thead>\n",
       "    <tr style=\"text-align: right;\">\n",
       "      <th></th>\n",
       "      <th>variables</th>\n",
       "      <th>coeficientes</th>\n",
       "    </tr>\n",
       "  </thead>\n",
       "  <tbody>\n",
       "    <tr>\n",
       "      <th>0</th>\n",
       "      <td>Age</td>\n",
       "      <td>0.017201</td>\n",
       "    </tr>\n",
       "    <tr>\n",
       "      <th>1</th>\n",
       "      <td>Gender</td>\n",
       "      <td>0.134720</td>\n",
       "    </tr>\n",
       "    <tr>\n",
       "      <th>2</th>\n",
       "      <td>BMI</td>\n",
       "      <td>-0.018813</td>\n",
       "    </tr>\n",
       "    <tr>\n",
       "      <th>3</th>\n",
       "      <td>Smoking</td>\n",
       "      <td>-0.017406</td>\n",
       "    </tr>\n",
       "    <tr>\n",
       "      <th>4</th>\n",
       "      <td>AlcoholConsumption</td>\n",
       "      <td>-0.041123</td>\n",
       "    </tr>\n",
       "    <tr>\n",
       "      <th>5</th>\n",
       "      <td>PhysicalActivity</td>\n",
       "      <td>-0.029839</td>\n",
       "    </tr>\n",
       "    <tr>\n",
       "      <th>6</th>\n",
       "      <td>DietQuality</td>\n",
       "      <td>0.068913</td>\n",
       "    </tr>\n",
       "    <tr>\n",
       "      <th>7</th>\n",
       "      <td>SleepQuality</td>\n",
       "      <td>-0.095320</td>\n",
       "    </tr>\n",
       "    <tr>\n",
       "      <th>8</th>\n",
       "      <td>FamilyHistoryAlzheimers</td>\n",
       "      <td>-0.023931</td>\n",
       "    </tr>\n",
       "    <tr>\n",
       "      <th>9</th>\n",
       "      <td>CardiovascularDisease</td>\n",
       "      <td>0.066174</td>\n",
       "    </tr>\n",
       "    <tr>\n",
       "      <th>10</th>\n",
       "      <td>Diabetes</td>\n",
       "      <td>0.055565</td>\n",
       "    </tr>\n",
       "    <tr>\n",
       "      <th>11</th>\n",
       "      <td>Depression</td>\n",
       "      <td>0.039628</td>\n",
       "    </tr>\n",
       "    <tr>\n",
       "      <th>12</th>\n",
       "      <td>HeadInjury</td>\n",
       "      <td>-0.024255</td>\n",
       "    </tr>\n",
       "    <tr>\n",
       "      <th>13</th>\n",
       "      <td>Hypertension</td>\n",
       "      <td>0.024735</td>\n",
       "    </tr>\n",
       "    <tr>\n",
       "      <th>14</th>\n",
       "      <td>SystolicBP</td>\n",
       "      <td>0.004453</td>\n",
       "    </tr>\n",
       "    <tr>\n",
       "      <th>15</th>\n",
       "      <td>DiastolicBP</td>\n",
       "      <td>0.012657</td>\n",
       "    </tr>\n",
       "    <tr>\n",
       "      <th>16</th>\n",
       "      <td>CholesterolTotal</td>\n",
       "      <td>0.003208</td>\n",
       "    </tr>\n",
       "    <tr>\n",
       "      <th>17</th>\n",
       "      <td>CholesterolLDL</td>\n",
       "      <td>0.001203</td>\n",
       "    </tr>\n",
       "    <tr>\n",
       "      <th>18</th>\n",
       "      <td>CholesterolHDL</td>\n",
       "      <td>0.004555</td>\n",
       "    </tr>\n",
       "    <tr>\n",
       "      <th>19</th>\n",
       "      <td>CholesterolTriglycerides</td>\n",
       "      <td>0.001878</td>\n",
       "    </tr>\n",
       "    <tr>\n",
       "      <th>20</th>\n",
       "      <td>MMSE</td>\n",
       "      <td>-0.093316</td>\n",
       "    </tr>\n",
       "    <tr>\n",
       "      <th>21</th>\n",
       "      <td>FunctionalAssessment</td>\n",
       "      <td>-0.359448</td>\n",
       "    </tr>\n",
       "    <tr>\n",
       "      <th>22</th>\n",
       "      <td>MemoryComplaints</td>\n",
       "      <td>0.914243</td>\n",
       "    </tr>\n",
       "    <tr>\n",
       "      <th>23</th>\n",
       "      <td>BehavioralProblems</td>\n",
       "      <td>0.609315</td>\n",
       "    </tr>\n",
       "    <tr>\n",
       "      <th>24</th>\n",
       "      <td>ADL</td>\n",
       "      <td>-0.293201</td>\n",
       "    </tr>\n",
       "    <tr>\n",
       "      <th>25</th>\n",
       "      <td>Confusion</td>\n",
       "      <td>-0.019246</td>\n",
       "    </tr>\n",
       "    <tr>\n",
       "      <th>26</th>\n",
       "      <td>Disorientation</td>\n",
       "      <td>-0.005806</td>\n",
       "    </tr>\n",
       "    <tr>\n",
       "      <th>27</th>\n",
       "      <td>PersonalityChanges</td>\n",
       "      <td>-0.041367</td>\n",
       "    </tr>\n",
       "    <tr>\n",
       "      <th>28</th>\n",
       "      <td>DifficultyCompletingTasks</td>\n",
       "      <td>0.006986</td>\n",
       "    </tr>\n",
       "    <tr>\n",
       "      <th>29</th>\n",
       "      <td>Forgetfulness</td>\n",
       "      <td>0.033948</td>\n",
       "    </tr>\n",
       "    <tr>\n",
       "      <th>30</th>\n",
       "      <td>Ethnicity_0</td>\n",
       "      <td>0.095431</td>\n",
       "    </tr>\n",
       "    <tr>\n",
       "      <th>31</th>\n",
       "      <td>Ethnicity_1</td>\n",
       "      <td>-0.121624</td>\n",
       "    </tr>\n",
       "    <tr>\n",
       "      <th>32</th>\n",
       "      <td>Ethnicity_2</td>\n",
       "      <td>0.083330</td>\n",
       "    </tr>\n",
       "    <tr>\n",
       "      <th>33</th>\n",
       "      <td>Ethnicity_3</td>\n",
       "      <td>-0.022473</td>\n",
       "    </tr>\n",
       "    <tr>\n",
       "      <th>34</th>\n",
       "      <td>EducationLevel_0</td>\n",
       "      <td>0.056223</td>\n",
       "    </tr>\n",
       "    <tr>\n",
       "      <th>35</th>\n",
       "      <td>EducationLevel_1</td>\n",
       "      <td>-0.045530</td>\n",
       "    </tr>\n",
       "    <tr>\n",
       "      <th>36</th>\n",
       "      <td>EducationLevel_2</td>\n",
       "      <td>0.085373</td>\n",
       "    </tr>\n",
       "    <tr>\n",
       "      <th>37</th>\n",
       "      <td>EducationLevel_3</td>\n",
       "      <td>-0.061401</td>\n",
       "    </tr>\n",
       "  </tbody>\n",
       "</table>\n",
       "</div>"
      ],
      "text/plain": [
       "                    variables  coeficientes\n",
       "0                         Age      0.017201\n",
       "1                      Gender      0.134720\n",
       "2                         BMI     -0.018813\n",
       "3                     Smoking     -0.017406\n",
       "4          AlcoholConsumption     -0.041123\n",
       "5            PhysicalActivity     -0.029839\n",
       "6                 DietQuality      0.068913\n",
       "7                SleepQuality     -0.095320\n",
       "8     FamilyHistoryAlzheimers     -0.023931\n",
       "9       CardiovascularDisease      0.066174\n",
       "10                   Diabetes      0.055565\n",
       "11                 Depression      0.039628\n",
       "12                 HeadInjury     -0.024255\n",
       "13               Hypertension      0.024735\n",
       "14                 SystolicBP      0.004453\n",
       "15                DiastolicBP      0.012657\n",
       "16           CholesterolTotal      0.003208\n",
       "17             CholesterolLDL      0.001203\n",
       "18             CholesterolHDL      0.004555\n",
       "19   CholesterolTriglycerides      0.001878\n",
       "20                       MMSE     -0.093316\n",
       "21       FunctionalAssessment     -0.359448\n",
       "22           MemoryComplaints      0.914243\n",
       "23         BehavioralProblems      0.609315\n",
       "24                        ADL     -0.293201\n",
       "25                  Confusion     -0.019246\n",
       "26             Disorientation     -0.005806\n",
       "27         PersonalityChanges     -0.041367\n",
       "28  DifficultyCompletingTasks      0.006986\n",
       "29              Forgetfulness      0.033948\n",
       "30                Ethnicity_0      0.095431\n",
       "31                Ethnicity_1     -0.121624\n",
       "32                Ethnicity_2      0.083330\n",
       "33                Ethnicity_3     -0.022473\n",
       "34           EducationLevel_0      0.056223\n",
       "35           EducationLevel_1     -0.045530\n",
       "36           EducationLevel_2      0.085373\n",
       "37           EducationLevel_3     -0.061401"
      ]
     },
     "execution_count": 5,
     "metadata": {},
     "output_type": "execute_result"
    }
   ],
   "source": [
    "Coef = pd.DataFrame ({\n",
    "    'variables' : X_train.keys(),\n",
    "    'coeficientes' : model.coef_[0]\n",
    "})\n",
    "Coef"
   ]
  },
  {
   "cell_type": "markdown",
   "id": "e1ce37a0",
   "metadata": {},
   "source": [
    "En el caso de los coeficientes de la regresión polinomial podemos ver que los que más afectan a nuestro modelo de regresión son:\n",
    "* MemoryComplain : 0.9142\n",
    "* BehavioralProblems : 0.6093\n",
    "\n",
    "Después de observar los que más nos afectan y ver el que le sigue de ellos que es Gender de 0.1347, se puede determinar que los dos coeficientes de arriba tienen un peso muy grande en la regresión logistica, siendo fundamentales para nuestro modelo. También es importante mencionar que dentro de las variables hay coeficientes negativos, lo que quiere decir que estos son aquellos que nos perjudican a nuetsro modelo. "
   ]
  },
  {
   "cell_type": "markdown",
   "id": "4cba2634",
   "metadata": {},
   "source": [
    "### Polinomial Grado 2"
   ]
  },
  {
   "cell_type": "code",
   "execution_count": 6,
   "id": "bfbfd05a",
   "metadata": {},
   "outputs": [
    {
     "name": "stderr",
     "output_type": "stream",
     "text": [
      "C:\\Users\\Alejandro\\.conda\\Lib\\site-packages\\sklearn\\linear_model\\_logistic.py:460: ConvergenceWarning: lbfgs failed to converge (status=1):\n",
      "STOP: TOTAL NO. of ITERATIONS REACHED LIMIT.\n",
      "\n",
      "Increase the number of iterations (max_iter) or scale the data as shown in:\n",
      "    https://scikit-learn.org/stable/modules/preprocessing.html\n",
      "Please also refer to the documentation for alternative solver options:\n",
      "    https://scikit-learn.org/stable/modules/linear_model.html#logistic-regression\n",
      "  n_iter_i = _check_optimize_result(\n"
     ]
    }
   ],
   "source": [
    "pipeline = Pipeline([\n",
    "    ('Scaler', StandardScaler()),\n",
    "    ('poly_features', PolynomialFeatures(degree=2)),\n",
    "    ('model', linear_model.LogisticRegression(penalty='l2'))\n",
    "])\n",
    "\n",
    "pipeline.fit(X_train, y_train)\n",
    "\n",
    "probabilidades2 = pipeline.predict_proba(X_test)[:, 1]"
   ]
  },
  {
   "cell_type": "markdown",
   "id": "7eec8edf",
   "metadata": {},
   "source": [
    "### Polinomial Grado 3"
   ]
  },
  {
   "cell_type": "code",
   "execution_count": 7,
   "id": "43d9ba4e",
   "metadata": {},
   "outputs": [
    {
     "name": "stderr",
     "output_type": "stream",
     "text": [
      "C:\\Users\\Alejandro\\.conda\\Lib\\site-packages\\sklearn\\linear_model\\_logistic.py:460: ConvergenceWarning: lbfgs failed to converge (status=1):\n",
      "STOP: TOTAL NO. of ITERATIONS REACHED LIMIT.\n",
      "\n",
      "Increase the number of iterations (max_iter) or scale the data as shown in:\n",
      "    https://scikit-learn.org/stable/modules/preprocessing.html\n",
      "Please also refer to the documentation for alternative solver options:\n",
      "    https://scikit-learn.org/stable/modules/linear_model.html#logistic-regression\n",
      "  n_iter_i = _check_optimize_result(\n"
     ]
    }
   ],
   "source": [
    "pipeline = Pipeline([\n",
    "    ('Scaler', StandardScaler()),\n",
    "    ('poly_features', PolynomialFeatures(degree=3)),\n",
    "    ('model', linear_model.LogisticRegression(penalty='l2'))\n",
    "])\n",
    "\n",
    "pipeline.fit(X_train, y_train)\n",
    "\n",
    "probabilidades3 = pipeline.predict_proba(X_test)[:, 1]"
   ]
  },
  {
   "cell_type": "markdown",
   "id": "ef58dc51",
   "metadata": {},
   "source": [
    "### KNN"
   ]
  },
  {
   "cell_type": "code",
   "execution_count": 8,
   "id": "05bbfd5f",
   "metadata": {},
   "outputs": [
    {
     "name": "stdout",
     "output_type": "stream",
     "text": [
      "AUC         0.857406\n",
      "vecinos    99.000000\n",
      "Name: 98, dtype: float64\n"
     ]
    }
   ],
   "source": [
    "scaler = StandardScaler()\n",
    "X_train_scaled = scaler.fit_transform(X_train)\n",
    "X_test_scaled = scaler.transform(X_test)\n",
    "\n",
    "vecinos = []\n",
    "AUC = []\n",
    "for i in range(1, 100):\n",
    "    model = neighbors.KNeighborsClassifier(n_neighbors=i).fit(X_train_scaled, y_train)\n",
    "    probabilidades_knn = model.predict_proba(X_test_scaled)[:, 1]\n",
    "    vecinos.append(i)\n",
    "    AUC.append(roc_auc_score(y_score=probabilidades_knn, y_true=y_test))\n",
    "     \n",
    "nn = pd.DataFrame({\n",
    "    'AUC': AUC, \n",
    "    'vecinos': vecinos\n",
    "})\n",
    "\n",
    "df_nv = nn\n",
    "nv_opt = df_nv.loc[df_nv['AUC'].idxmax()]\n",
    "print(nv_opt)"
   ]
  },
  {
   "cell_type": "markdown",
   "id": "7bc8930f",
   "metadata": {},
   "source": [
    "### Discriminante lineal"
   ]
  },
  {
   "cell_type": "code",
   "execution_count": 9,
   "id": "04b50ee8",
   "metadata": {},
   "outputs": [],
   "source": [
    "pipeline = Pipeline([\n",
    "    ('Scaler', StandardScaler()),\n",
    "    ('model', discriminant_analysis.LinearDiscriminantAnalysis())\n",
    "])\n",
    "\n",
    "pipeline.fit(X_train, y_train)\n",
    "\n",
    "probabilidades_disc = pipeline.predict_proba(X_test)[:, 1]"
   ]
  },
  {
   "cell_type": "markdown",
   "id": "419fedc2",
   "metadata": {},
   "source": [
    "## Dataset probabilidades"
   ]
  },
  {
   "cell_type": "code",
   "execution_count": 10,
   "id": "47bb53a4",
   "metadata": {},
   "outputs": [
    {
     "data": {
      "text/html": [
       "<div>\n",
       "<style scoped>\n",
       "    .dataframe tbody tr th:only-of-type {\n",
       "        vertical-align: middle;\n",
       "    }\n",
       "\n",
       "    .dataframe tbody tr th {\n",
       "        vertical-align: top;\n",
       "    }\n",
       "\n",
       "    .dataframe thead th {\n",
       "        text-align: right;\n",
       "    }\n",
       "</style>\n",
       "<table border=\"1\" class=\"dataframe\">\n",
       "  <thead>\n",
       "    <tr style=\"text-align: right;\">\n",
       "      <th></th>\n",
       "      <th>real</th>\n",
       "      <th>logistica1</th>\n",
       "      <th>logistica2</th>\n",
       "      <th>logistica3</th>\n",
       "      <th>probabilidades_disc</th>\n",
       "      <th>knn</th>\n",
       "    </tr>\n",
       "  </thead>\n",
       "  <tbody>\n",
       "    <tr>\n",
       "      <th>1159</th>\n",
       "      <td>0</td>\n",
       "      <td>0.059520</td>\n",
       "      <td>6.551131e-12</td>\n",
       "      <td>4.117689e-07</td>\n",
       "      <td>0.013735</td>\n",
       "      <td>0.222222</td>\n",
       "    </tr>\n",
       "    <tr>\n",
       "      <th>1822</th>\n",
       "      <td>0</td>\n",
       "      <td>0.475682</td>\n",
       "      <td>1.161886e-05</td>\n",
       "      <td>2.897148e-02</td>\n",
       "      <td>0.153149</td>\n",
       "      <td>0.202020</td>\n",
       "    </tr>\n",
       "    <tr>\n",
       "      <th>978</th>\n",
       "      <td>0</td>\n",
       "      <td>0.124084</td>\n",
       "      <td>3.727678e-01</td>\n",
       "      <td>1.573301e-01</td>\n",
       "      <td>0.159469</td>\n",
       "      <td>0.343434</td>\n",
       "    </tr>\n",
       "    <tr>\n",
       "      <th>759</th>\n",
       "      <td>0</td>\n",
       "      <td>0.351036</td>\n",
       "      <td>1.857055e-05</td>\n",
       "      <td>1.327176e-05</td>\n",
       "      <td>0.078635</td>\n",
       "      <td>0.252525</td>\n",
       "    </tr>\n",
       "    <tr>\n",
       "      <th>874</th>\n",
       "      <td>0</td>\n",
       "      <td>0.004857</td>\n",
       "      <td>2.761389e-11</td>\n",
       "      <td>1.667646e-09</td>\n",
       "      <td>0.001993</td>\n",
       "      <td>0.161616</td>\n",
       "    </tr>\n",
       "  </tbody>\n",
       "</table>\n",
       "</div>"
      ],
      "text/plain": [
       "      real  logistica1    logistica2    logistica3  probabilidades_disc  \\\n",
       "1159     0    0.059520  6.551131e-12  4.117689e-07             0.013735   \n",
       "1822     0    0.475682  1.161886e-05  2.897148e-02             0.153149   \n",
       "978      0    0.124084  3.727678e-01  1.573301e-01             0.159469   \n",
       "759      0    0.351036  1.857055e-05  1.327176e-05             0.078635   \n",
       "874      0    0.004857  2.761389e-11  1.667646e-09             0.001993   \n",
       "\n",
       "           knn  \n",
       "1159  0.222222  \n",
       "1822  0.202020  \n",
       "978   0.343434  \n",
       "759   0.252525  \n",
       "874   0.161616  "
      ]
     },
     "execution_count": 10,
     "metadata": {},
     "output_type": "execute_result"
    }
   ],
   "source": [
    "df_todo = pd.DataFrame({\n",
    "    'real' : y_test,\n",
    "    'logistica1' : probabilidades1,\n",
    "    'logistica2' : probabilidades2,\n",
    "    'logistica3' : probabilidades3,\n",
    "    'probabilidades_disc': probabilidades_disc,\n",
    "    'knn': probabilidades_knn \n",
    "})\n",
    "\n",
    "df_todo.head()"
   ]
  },
  {
   "cell_type": "code",
   "execution_count": 11,
   "id": "8942986c",
   "metadata": {},
   "outputs": [],
   "source": [
    "df_todo['bins1']= pd.qcut(df_todo['logistica1'], q=10, labels=False)+1\n",
    "df_todo['bins2']= pd.qcut(df_todo['logistica2'], q=10, labels=False)+1\n",
    "df_todo['bins3']= pd.qcut(df_todo['logistica3'], q=10, labels=False)+1\n",
    "df_todo['bins_knn']= pd.qcut(df_todo['knn'], q=10, labels=False)+1\n",
    "df_todo['bins_disc']= pd.qcut(df_todo['probabilidades_disc'], q=10, labels=False)+1\n",
    "\n",
    "\n",
    "\n",
    "\n",
    "grouped1 = df_todo.groupby('bins1').mean()\n",
    "grouped2 = df_todo.groupby('bins2').mean()\n",
    "grouped3 = df_todo.groupby('bins3').mean()\n",
    "grouped_knn = df_todo.groupby('bins_knn').mean()\n",
    "grouped_disc = df_todo.groupby('bins_disc').mean()\n",
    "\n",
    "\n",
    "\n",
    "\n"
   ]
  },
  {
   "cell_type": "markdown",
   "id": "cd52d47a",
   "metadata": {},
   "source": [
    "### Calibraciones"
   ]
  },
  {
   "cell_type": "code",
   "execution_count": 12,
   "id": "6bda1dea",
   "metadata": {},
   "outputs": [
    {
     "data": {
      "text/plain": [
       "[<matplotlib.lines.Line2D at 0x2869ecddad0>]"
      ]
     },
     "execution_count": 12,
     "metadata": {},
     "output_type": "execute_result"
    },
    {
     "data": {
      "image/png": "[encoded data removed]",
      "text/plain": [
       "<Figure size 640x480 with 1 Axes>"
      ]
     },
     "metadata": {},
     "output_type": "display_data"
    }
   ],
   "source": [
    "plt.plot(grouped1.logistica1, grouped1.real, marker='o')\n",
    "plt.plot(grouped1.logistica1, grouped1.logistica1, color='red')\n",
    "\n",
    "\n",
    "plt.plot(grouped2.logistica2, grouped2.real, marker='o')\n",
    "plt.plot(grouped2.logistica2, grouped2.logistica2, color='red')\n",
    "\n",
    "plt.plot(grouped3.logistica3, grouped3.real, marker='o')\n",
    "plt.plot(grouped3.logistica3, grouped3.logistica3, color='red')\n",
    "\n",
    "plt.plot(grouped_knn.knn, grouped_knn.real, marker='o')\n",
    "plt.plot(grouped_knn.knn, grouped_knn.knn, color='red')\n",
    "\n",
    "\n",
    "plt.plot(grouped_disc.probabilidades_disc, grouped_disc.real, marker='o')\n",
    "plt.plot(grouped_disc.probabilidades_disc, grouped_disc.probabilidades_disc, color='red')\n"
   ]
  },
  {
   "cell_type": "markdown",
   "id": "00eb7a14",
   "metadata": {},
   "source": [
    "### Histogramas"
   ]
  },
  {
   "cell_type": "code",
   "execution_count": 13,
   "id": "d355a954",
   "metadata": {},
   "outputs": [],
   "source": [
    "real1 = df_todo[df_todo['real'] == 1]\n",
    "real0 = df_todo[df_todo['real'] == 0]"
   ]
  },
  {
   "cell_type": "markdown",
   "id": "0592b064",
   "metadata": {},
   "source": [
    "#### Regresión Logística"
   ]
  },
  {
   "cell_type": "code",
   "execution_count": 14,
   "id": "13c6503e",
   "metadata": {},
   "outputs": [
    {
     "data": {
      "image/png": "[encoded data removed]",
      "text/plain": [
       "<Figure size 640x480 with 1 Axes>"
      ]
     },
     "metadata": {},
     "output_type": "display_data"
    }
   ],
   "source": [
    "plt.hist(real1.logistica1, density=True, alpha=0.5, bins=10)\n",
    "plt.hist(real0.logistica1, density=True, alpha=0.5, bins=10)\n",
    "plt.show()"
   ]
  },
  {
   "cell_type": "markdown",
   "id": "38de2434",
   "metadata": {},
   "source": [
    "#### Polinomial Grado 2"
   ]
  },
  {
   "cell_type": "code",
   "execution_count": 15,
   "id": "12b8533b",
   "metadata": {},
   "outputs": [
    {
     "data": {
      "image/png": "[encoded data removed]",
      "text/plain": [
       "<Figure size 640x480 with 1 Axes>"
      ]
     },
     "metadata": {},
     "output_type": "display_data"
    }
   ],
   "source": [
    "plt.hist(real1.logistica2, density=True, alpha=0.5, bins=10)\n",
    "plt.hist(real0.logistica2, density=True, alpha=0.5, bins=10)\n",
    "plt.show()"
   ]
  },
  {
   "cell_type": "markdown",
   "id": "c27d6cdd",
   "metadata": {},
   "source": [
    "#### Polinomial Grado 3"
   ]
  },
  {
   "cell_type": "code",
   "execution_count": 16,
   "id": "723e14f0",
   "metadata": {},
   "outputs": [
    {
     "data": {
      "image/png": "[encoded data removed]",
      "text/plain": [
       "<Figure size 640x480 with 1 Axes>"
      ]
     },
     "metadata": {},
     "output_type": "display_data"
    }
   ],
   "source": [
    "plt.hist(real1.logistica3, density=True, alpha=0.5, bins=10)\n",
    "plt.hist(real0.logistica3, density=True, alpha=0.5, bins=10)\n",
    "plt.show()"
   ]
  },
  {
   "cell_type": "markdown",
   "id": "390dfda0",
   "metadata": {},
   "source": [
    "#### KNN"
   ]
  },
  {
   "cell_type": "code",
   "execution_count": 17,
   "id": "b818aaf4",
   "metadata": {},
   "outputs": [
    {
     "data": {
      "image/png": "[encoded data removed]",
      "text/plain": [
       "<Figure size 640x480 with 1 Axes>"
      ]
     },
     "metadata": {},
     "output_type": "display_data"
    }
   ],
   "source": [
    "plt.hist(real1.knn, density=True, alpha=0.5, bins=10)\n",
    "plt.hist(real0.knn, density=True, alpha=0.5, bins=10)\n",
    "plt.show()"
   ]
  },
  {
   "cell_type": "markdown",
   "id": "438d0649",
   "metadata": {},
   "source": [
    "#### Discriminante Lineal"
   ]
  },
  {
   "cell_type": "code",
   "execution_count": 18,
   "id": "eee04239",
   "metadata": {},
   "outputs": [
    {
     "data": {
      "image/png": "[encoded data removed]",
      "text/plain": [
       "<Figure size 640x480 with 1 Axes>"
      ]
     },
     "metadata": {},
     "output_type": "display_data"
    }
   ],
   "source": [
    "plt.hist(real1.probabilidades_disc, density=True, alpha=0.5, bins=10)\n",
    "plt.hist(real0.probabilidades_disc, density=True, alpha=0.5, bins=10)\n",
    "plt.show()"
   ]
  },
  {
   "cell_type": "markdown",
   "id": "d2874fb4",
   "metadata": {},
   "source": [
    "### AUC y Curva ROC"
   ]
  },
  {
   "cell_type": "markdown",
   "id": "9084db2f",
   "metadata": {},
   "source": [
    "#### Rregresión Lineal"
   ]
  },
  {
   "cell_type": "code",
   "execution_count": 19,
   "id": "67db2d38",
   "metadata": {},
   "outputs": [
    {
     "data": {
      "text/plain": [
       "[<matplotlib.lines.Line2D at 0x286a2995d90>]"
      ]
     },
     "execution_count": 19,
     "metadata": {},
     "output_type": "execute_result"
    },
    {
     "data": {
      "image/png": "[encoded data removed]",
      "text/plain": [
       "<Figure size 640x480 with 1 Axes>"
      ]
     },
     "metadata": {},
     "output_type": "display_data"
    }
   ],
   "source": [
    "fpr, fnp, scores = roc_curve(y_score = probabilidades1, y_true = y_test)\n",
    "plt.plot(fpr, fnp)\n",
    "plt.plot([0, 1], [0, 1], color='red', linestyle='--', lw=2, label='Clasificador aleatorio')"
   ]
  },
  {
   "cell_type": "markdown",
   "id": "b0283ff6",
   "metadata": {},
   "source": [
    "#### Polinomial Grado 2"
   ]
  },
  {
   "cell_type": "code",
   "execution_count": 20,
   "id": "155ab25f",
   "metadata": {},
   "outputs": [
    {
     "data": {
      "text/plain": [
       "[<matplotlib.lines.Line2D at 0x28698994590>]"
      ]
     },
     "execution_count": 20,
     "metadata": {},
     "output_type": "execute_result"
    },
    {
     "data": {
      "image/png": "[encoded data removed]",
      "text/plain": [
       "<Figure size 640x480 with 1 Axes>"
      ]
     },
     "metadata": {},
     "output_type": "display_data"
    }
   ],
   "source": [
    "fpr, fnp, scores = roc_curve(y_score = probabilidades2, y_true = y_test)\n",
    "plt.plot(fpr, fnp)\n",
    "plt.plot([0, 1], [0, 1], color='red', linestyle='--', lw=2, label='Clasificador aleatorio')"
   ]
  },
  {
   "cell_type": "markdown",
   "id": "ead11964",
   "metadata": {},
   "source": [
    "#### Polinomial Grado 3"
   ]
  },
  {
   "cell_type": "code",
   "execution_count": 21,
   "id": "3a8b3da7",
   "metadata": {},
   "outputs": [
    {
     "data": {
      "text/plain": [
       "[<matplotlib.lines.Line2D at 0x286a2c23990>]"
      ]
     },
     "execution_count": 21,
     "metadata": {},
     "output_type": "execute_result"
    },
    {
     "data": {
      "image/png": "[encoded data removed]",
      "text/plain": [
       "<Figure size 640x480 with 1 Axes>"
      ]
     },
     "metadata": {},
     "output_type": "display_data"
    }
   ],
   "source": [
    "fpr, fnp, scores = roc_curve(y_score = probabilidades3, y_true = y_test)\n",
    "plt.plot(fpr, fnp)\n",
    "plt.plot([0, 1], [0, 1], color='red', linestyle='--', lw=2, label='Clasificador aleatorio')"
   ]
  },
  {
   "cell_type": "markdown",
   "id": "b5438e04",
   "metadata": {},
   "source": [
    "#### KNN"
   ]
  },
  {
   "cell_type": "code",
   "execution_count": 22,
   "id": "8d8e695b",
   "metadata": {},
   "outputs": [
    {
     "data": {
      "text/plain": [
       "[<matplotlib.lines.Line2D at 0x286a2c66690>]"
      ]
     },
     "execution_count": 22,
     "metadata": {},
     "output_type": "execute_result"
    },
    {
     "data": {
      "image/png": "[encoded data removed]",
      "text/plain": [
       "<Figure size 640x480 with 1 Axes>"
      ]
     },
     "metadata": {},
     "output_type": "display_data"
    }
   ],
   "source": [
    "fpr, fnp, scores = roc_curve(y_score = probabilidades_knn, y_true = y_test)\n",
    "plt.plot(fpr, fnp)\n",
    "plt.plot([0, 1], [0, 1], color='red', linestyle='--', lw=2, label='Clasificador aleatorio')"
   ]
  },
  {
   "cell_type": "markdown",
   "id": "0d146abb",
   "metadata": {},
   "source": [
    "#### Discriminante Lineal"
   ]
  },
  {
   "cell_type": "code",
   "execution_count": 23,
   "id": "955530e3",
   "metadata": {},
   "outputs": [
    {
     "data": {
      "text/plain": [
       "[<matplotlib.lines.Line2D at 0x286a2aa8f50>]"
      ]
     },
     "execution_count": 23,
     "metadata": {},
     "output_type": "execute_result"
    },
    {
     "data": {
      "image/png": "[encoded data removed]",
      "text/plain": [
       "<Figure size 640x480 with 1 Axes>"
      ]
     },
     "metadata": {},
     "output_type": "display_data"
    }
   ],
   "source": [
    "fpr, fnp, scores = roc_curve(y_score = probabilidades_disc, y_true = y_test)\n",
    "plt.plot(fpr, fnp)\n",
    "plt.plot([0, 1], [0, 1], color='red', linestyle='--', lw=2, label='Clasificador aleatorio')"
   ]
  },
  {
   "cell_type": "markdown",
   "id": "dc17a404",
   "metadata": {},
   "source": [
    "#### AUC y GINI"
   ]
  },
  {
   "cell_type": "code",
   "execution_count": 24,
   "id": "c0756fc5",
   "metadata": {},
   "outputs": [],
   "source": [
    "AUC1 = roc_auc_score(y_score=probabilidades1, y_true=y_test)\n",
    "AUC2 = roc_auc_score(y_score=probabilidades2, y_true=y_test)\n",
    "AUC3 = roc_auc_score(y_score=probabilidades3, y_true=y_test)\n",
    "AUC_KNN = roc_auc_score(y_score=probabilidades_knn, y_true=y_test)\n",
    "AUC_Disc = roc_auc_score(y_score=probabilidades_disc, y_true=y_test)\n",
    "\n",
    "GINI1 = 2*roc_auc_score(y_score=probabilidades1, y_true=y_test)-1\n",
    "GINI2 = 2*roc_auc_score(y_score=probabilidades2, y_true=y_test)-1\n",
    "GINI3 = 2*roc_auc_score(y_score=probabilidades3, y_true=y_test)-1\n",
    "GINI_KNN = 2*roc_auc_score(y_score=probabilidades_knn, y_true=y_test)-1\n",
    "GINI_Disc = 2*roc_auc_score(y_score=probabilidades_disc, y_true=y_test)-1"
   ]
  },
  {
   "cell_type": "code",
   "execution_count": 25,
   "id": "158d44d9",
   "metadata": {},
   "outputs": [
    {
     "data": {
      "text/html": [
       "<div>\n",
       "<style scoped>\n",
       "    .dataframe tbody tr th:only-of-type {\n",
       "        vertical-align: middle;\n",
       "    }\n",
       "\n",
       "    .dataframe tbody tr th {\n",
       "        vertical-align: top;\n",
       "    }\n",
       "\n",
       "    .dataframe thead th {\n",
       "        text-align: right;\n",
       "    }\n",
       "</style>\n",
       "<table border=\"1\" class=\"dataframe\">\n",
       "  <thead>\n",
       "    <tr style=\"text-align: right;\">\n",
       "      <th></th>\n",
       "      <th>AUC</th>\n",
       "      <th>GINI</th>\n",
       "    </tr>\n",
       "  </thead>\n",
       "  <tbody>\n",
       "    <tr>\n",
       "      <th>Logictica1</th>\n",
       "      <td>0.823270</td>\n",
       "      <td>0.646539</td>\n",
       "    </tr>\n",
       "    <tr>\n",
       "      <th>Polinomial2</th>\n",
       "      <td>0.777012</td>\n",
       "      <td>0.554025</td>\n",
       "    </tr>\n",
       "    <tr>\n",
       "      <th>Polinomial3</th>\n",
       "      <td>0.846766</td>\n",
       "      <td>0.693533</td>\n",
       "    </tr>\n",
       "    <tr>\n",
       "      <th>KNN</th>\n",
       "      <td>0.857406</td>\n",
       "      <td>0.714811</td>\n",
       "    </tr>\n",
       "    <tr>\n",
       "      <th>Discriminante_lineal</th>\n",
       "      <td>0.879533</td>\n",
       "      <td>0.759065</td>\n",
       "    </tr>\n",
       "  </tbody>\n",
       "</table>\n",
       "</div>"
      ],
      "text/plain": [
       "                           AUC      GINI\n",
       "Logictica1            0.823270  0.646539\n",
       "Polinomial2           0.777012  0.554025\n",
       "Polinomial3           0.846766  0.693533\n",
       "KNN                   0.857406  0.714811\n",
       "Discriminante_lineal  0.879533  0.759065"
      ]
     },
     "execution_count": 25,
     "metadata": {},
     "output_type": "execute_result"
    }
   ],
   "source": [
    "AUC = pd.DataFrame({\n",
    "    'AUC': [AUC1, AUC2, AUC3, AUC_KNN, AUC_Disc],\n",
    "    'GINI': [GINI1, GINI2, GINI3, GINI_KNN, GINI_Disc]\n",
    "}, index=['Logictica1', 'Polinomial2','Polinomial3', 'KNN', 'Discriminante_lineal' ])\n",
    "\n",
    "AUC"
   ]
  },
  {
   "cell_type": "markdown",
   "id": "eba7b26a",
   "metadata": {},
   "source": [
    "## Conclusión"
   ]
  },
  {
   "cell_type": "markdown",
   "id": "8c37537e",
   "metadata": {},
   "source": [
    "Tras haber hecho todos los modelos, tanto la regresión logistica normal, las polinomiales grado 2 y grado 3, KNN y discriminante lineal, podemos concluir que el mejor modelo para predecir si tendrá alguien Alzheimer o no es el discriminante lineal con un AUC de 0.8795, siendo este el mayor de todos. \n",
    "\n",
    "Esto se puede corroborar tanto con la grafica de calibración que es la que mejor se ajusta a la linea de tendencia de los valores reales que se presentan; el histograma donde vemos que ambos lados se logran separara muy bien y hay pocos datos como intersección, siendo un claro ejemplo de que hay buenas predicciones; y, por la curva ROC, donde vemos una gran curva que abarca mucho espacio de la parte superior de la grafica, lo cual es lo óptimo cuando se busca un buen modelo. \n",
    "\n",
    "Asimismo, podemos ver que en el GINI, este modelo es el mayor, con un 0.7590, lo que nos indica que el 75.90% el modelo explica correctamente cuando una persona tendrá Alzheimer y cuando no. "
   ]
  }
 ],
 "metadata": {
  "kernelspec": {
   "display_name": "Python 3 (ipykernel)",
   "language": "python",
   "name": "python3"
  },
  "language_info": {
   "codemirror_mode": {
    "name": "ipython",
    "version": 3
   },
   "file_extension": ".py",
   "mimetype": "text/x-python",
   "name": "python",
   "nbconvert_exporter": "python",
   "pygments_lexer": "ipython3",
   "version": "3.11.4"
  }
 },
 "nbformat": 4,
 "nbformat_minor": 5
}
