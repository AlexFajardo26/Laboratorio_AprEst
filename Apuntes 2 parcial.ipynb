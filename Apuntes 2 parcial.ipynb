{
 "cells": [
  {
   "cell_type": "markdown",
   "id": "0e32f0f2",
   "metadata": {},
   "source": [
    "## Apuntes"
   ]
  },
  {
   "cell_type": "markdown",
   "id": "4e671af3",
   "metadata": {},
   "source": [
    "### Regresión Logística"
   ]
  },
  {
   "cell_type": "markdown",
   "id": "97e3f720",
   "metadata": {},
   "source": [
    "La regresión logística es un modelo de predicción y clasificación utilizado para poder hacer predicciones de resultados binarios, esto lo hace mediante la probabilidad de ocurrencia de un evento.\n",
    "\n",
    "Esto se calcula de la siguiente manera:\n",
    "\n",
    "$$\n",
    "z =\\beta^T X\n",
    "$$\n",
    "\n",
    "La probabilidad se calcula:\n",
    "\n",
    "$$\n",
    "p=\\frac{1}{1+e^{-z}}\n",
    "$$\n",
    "\n",
    "### Función de Verosimilitud\n",
    "\n",
    "Dado un conjunto de datos $(X_i, y_i)$ con \\( i = 1, $\\dots$, m \\), la **función de verosimilitud** es:\n",
    "\n",
    "$$\n",
    "L(\\theta, \\sigma^2) = \\prod_{i=1}^{m} \\frac{1}{\\sqrt{2\\pi\\sigma^2}} \\exp\\left(-\\frac{(y_i - \\theta^T X_i)^2}{2\\sigma^2}\\right)\n",
    "$$\n",
    "\n",
    "Tomamos el **logaritmo de la verosimilitud**:\n",
    "\n",
    "$$\n",
    "\\log L(\\theta, \\sigma^2) = \\sum_{i=1}^{m} \\left( -\\frac{1}{2} \\log(2\\pi\\sigma^2) - \\frac{(y_i - \\theta^T X_i)^2}{2\\sigma^2} \\right)\n",
    "$$\n",
    "\n",
    "### **Relación con OLS**  \n",
    "\n",
    "Para **maximizar la verosimilitud respecto a $\\theta$ **, ignoramos términos constantes:\n",
    "\n",
    "$$\n",
    "\\max_{\\theta} \\sum_{i=1}^{m} -\\frac{(y_i - \\theta^T X_i)^2}{2\\sigma^2}\n",
    "$$\n",
    "\n",
    "Esto equivale a **minimizar el error cuadrático**:\n",
    "\n",
    "$$\n",
    "\\min_{\\theta} \\sum_{i=1}^{m} (y_i - \\theta^T X_i)^2\n",
    "$$\n",
    "\n",
    "\n",
    "**Conclusión:** Minimizar el error cuadrático con **OLS** es lo mismo que **maximizar la verosimilitud** bajo una **distribución normal de los errores**.\n"
   ]
  },
  {
   "cell_type": "markdown",
   "id": "d7904d1f",
   "metadata": {},
   "source": [
    "### Odds y Log Odds"
   ]
  },
  {
   "cell_type": "markdown",
   "id": "ac9e8234",
   "metadata": {},
   "source": [
    "Los odds son la probabilidad de ganar entre la probabilidad de perder. Un ejemplo es si mi equipo gana 1 a 4, el odd sería $\\frac{1}{4}$\n",
    "\n",
    "Para comprobar esto tenemos que la probabilidad de ganar esn este caso sería:\n",
    "\n",
    "$$\\frac{1}{1+4} = 0.2$$\n",
    "\n",
    "La probabilidad de perder sería:\n",
    "\n",
    "$$\\frac{1}{1+4} = 0.8$$\n",
    "\n",
    "Si dividimos la probabilidad de ganar entre la de perder obetenemos\n",
    "\n",
    "$$\\frac{0.2}{0.8} = \\frac{1}{4}$$\n",
    "\n",
    "Con lo cual se comprueba el concepto de odds.\n",
    "\n",
    "Si lo ponemos como formula general tenemos que odds $\\frac{p}{1-p}$ donde $p$ es la probabilidad de ganar (pase el evento) y $1-p$ la probabilidad de perder (no pase el evento).\n",
    "\n",
    "Como los odds no son datos tan estabilizados y sigien un comportamiento exponencial, se utiliza el logaritmo para estabilizarlos y hacerlos más lineales, de esta forma es mas facil poder usarlos en la regresión logística. La fórmula de esto sería $ln (\\frac{p}{1-p})$.\n",
    "\n",
    "\n",
    "p se calcula:\n",
    "\n",
    "$$\n",
    "p=\\frac{1}{1+e^{-z}}\n",
    "$$\n",
    "\n",
    "donde p es la probabilidad de que la predicción sea 1 (Si el numero es mayor a 0.5 se considera 1)\n",
    "\n",
    "donde z(log odds) se calcula:\n",
    "\n",
    "$$\n",
    "z = \\beta^T X\n",
    "$$\n",
    "\n",
    "donde multiplicamos los coeficientes la regresión lógistica y X las características de una persona aleatoria."
   ]
  },
  {
   "cell_type": "markdown",
   "id": "9c4bb368",
   "metadata": {},
   "source": [
    "### Softmax"
   ]
  },
  {
   "cell_type": "markdown",
   "id": "d2eac200",
   "metadata": {},
   "source": [
    "Utilizamos la función Softmax cuando no solo se tiene dos clases como en la regresión logística. Es decir, este modelo es para cuando se tiene una multiclase. \n",
    "\n",
    "La función Softmax convierte los logits (salidas de la función lineal) en probabilidades:\n",
    "\n",
    "$$\n",
    "P(y = k | \\mathbf{x}) = \\frac{\\exp(\\mathbf{w}_k \\cdot \\mathbf{x} + b_k)}{\\sum_{j=1}^{K} \\exp(\\mathbf{w}_j \\cdot \\mathbf{x} + b_j)}\n",
    "$$\n",
    "\n",
    "\n",
    "#### **Ejemplo Numérico**\n",
    "Si tenemos 3 clases y logits calculados como:\n",
    "$$\n",
    "z_1 = 2.0, \\quad z_2 = 1.0, \\quad z_3 = -1.0\n",
    "$$\n",
    "Aplicamos Softmax:\n",
    "$$\n",
    "P(y=1) = \\frac{e^2}{e^2 + e^1 + e^{-1}} = 0.72\n",
    "$$\n",
    "$$\n",
    "P(y=2) = \\frac{e^1}{e^2 + e^1 + e^{-1}} = 0.26\n",
    "$$\n",
    "$$\n",
    "P(y=3) = \\frac{e^{-1}}{e^2 + e^1 + e^{-1}} = 0.04\n",
    "$$\n",
    "Esto indica que la clase 1 es la más probable."
   ]
  },
  {
   "cell_type": "markdown",
   "id": "e992a9c7",
   "metadata": {},
   "source": [
    "### Analisis de discriminante lineal"
   ]
  },
  {
   "cell_type": "markdown",
   "id": "43cf27d5",
   "metadata": {},
   "source": [
    "### Redes neuronales"
   ]
  },
  {
   "cell_type": "markdown",
   "id": "4c74e58a",
   "metadata": {},
   "source": [
    "Una red neuronal es un modelo donde se realizan diferentes transformaciones a los datos para poder realizar una predicción. La red neuronal tiene una entrada que son todos los datos, y de ahí vienen las capas donde se encuentran las neuronas. estas capas cuentan también con una función de activación independiente, es justo en esas capas donde se realizan las transofmraciones de los datos. Después de realizar todo este proceso llamada forward propagation, se obtienen un predicción. Tras llegar a esta predicción se realiza ahora un back propagation, usando el metodo de descenso em gradiente, donde la predicción ahora es la entrada de la red neuronal y se vuelve a realizar el mismo proceso, todo esto se repite hasta que converga y se obtenga el mejor resultado posible. "
   ]
  },
  {
   "cell_type": "markdown",
   "id": "d132a5bf",
   "metadata": {},
   "source": [
    "### AUC"
   ]
  },
  {
   "cell_type": "markdown",
   "id": "23174614",
   "metadata": {},
   "source": [
    "Metrica para medir algo"
   ]
  }
 ],
 "metadata": {
  "kernelspec": {
   "display_name": "Python 3 (ipykernel)",
   "language": "python",
   "name": "python3"
  },
  "language_info": {
   "codemirror_mode": {
    "name": "ipython",
    "version": 3
   },
   "file_extension": ".py",
   "mimetype": "text/x-python",
   "name": "python",
   "nbconvert_exporter": "python",
   "pygments_lexer": "ipython3",
   "version": "3.11.4"
  }
 },
 "nbformat": 4,
 "nbformat_minor": 5
}
