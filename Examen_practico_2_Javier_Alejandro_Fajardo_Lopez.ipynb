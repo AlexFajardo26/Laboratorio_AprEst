{
 "cells": [
  {
   "cell_type": "code",
   "execution_count": 8,
   "metadata": {},
   "outputs": [],
   "source": [
    "import pandas as pd\n",
    "import matplotlib.pyplot as plt\n",
    "import numpy as np\n",
    "from sklearn.model_selection import train_test_split, GridSearchCV, RandomizedSearchCV\n",
    "from sklearn.linear_model import LogisticRegression\n",
    "from sklearn import discriminant_analysis\n",
    "from sklearn import linear_model\n",
    "from sklearn.pipeline import Pipeline\n",
    "from sklearn.preprocessing import StandardScaler, PolynomialFeatures\n",
    "from sklearn.metrics import roc_auc_score\n",
    "from sklearn.neighbors import KNeighborsClassifier\n",
    "from sklearn.neural_network import MLPClassifier, MLPRegressor"
   ]
  },
  {
   "cell_type": "markdown",
   "metadata": {},
   "source": [
    "## Datos"
   ]
  },
  {
   "cell_type": "code",
   "execution_count": 4,
   "metadata": {},
   "outputs": [],
   "source": [
    "df=pd.read_csv('diabetes.csv')\n",
    "df= pd.get_dummies(df, columns=['smoking_history', 'gender'])\n",
    "target = 'diabetes'\n",
    "y = df[target]\n",
    "X=df.copy()\n",
    "X=X.drop(target, axis=1)\n",
    "X_train, X_test, y_train, y_test = train_test_split(X, y, test_size=0.2, random_state=42)"
   ]
  },
  {
   "cell_type": "markdown",
   "metadata": {},
   "source": [
    "## Modelos todas las variables"
   ]
  },
  {
   "cell_type": "markdown",
   "metadata": {},
   "source": [
    "### Knn clasificador"
   ]
  },
  {
   "cell_type": "code",
   "execution_count": 10,
   "metadata": {},
   "outputs": [
    {
     "data": {
      "text/plain": [
       "0.8026223439586084"
      ]
     },
     "execution_count": 10,
     "metadata": {},
     "output_type": "execute_result"
    }
   ],
   "source": [
    "pipeline = Pipeline([\n",
    "    ('scaler', StandardScaler()),  # Normalización de datos\n",
    "    ('knn', KNeighborsClassifier())  \n",
    "])\n",
    "\n",
    "params_grid = {\n",
    "    'knn__n_neighbors': np.arange(1,30), \n",
    "    'knn__weights': ['uniform', 'distance'],\n",
    "    'knn__metric': ['euclidean', 'manhattan'] \n",
    "}\n",
    "random_search_knn = RandomizedSearchCV(estimator=pipeline, param_distributions=params_grid, n_iter=15, cv=5, n_jobs =-1, scoring='roc_auc')\n",
    "random_search_knn.fit(X_train, y_train)\n",
    "random_knn = random_search_knn.best_estimator_.predict_proba(X_test)[:, 1]\n",
    "roc_auc_score(y_score=random_knn, y_true= y_test)"
   ]
  },
  {
   "cell_type": "markdown",
   "metadata": {},
   "source": [
    "### Regresion Lógistica"
   ]
  },
  {
   "cell_type": "code",
   "execution_count": 5,
   "metadata": {},
   "outputs": [
    {
     "name": "stderr",
     "output_type": "stream",
     "text": [
      "c:\\Users\\Alejandro\\.conda\\Lib\\site-packages\\sklearn\\linear_model\\_logistic.py:1207: UserWarning: Setting penalty=None will ignore the C and l1_ratio parameters\n",
      "  warnings.warn(\n"
     ]
    },
    {
     "data": {
      "text/plain": [
       "0.8385106381208098"
      ]
     },
     "execution_count": 5,
     "metadata": {},
     "output_type": "execute_result"
    }
   ],
   "source": [
    "pipeline = Pipeline([\n",
    "    ('poly', PolynomialFeatures(include_bias=False)),  \n",
    "    ('scaler', StandardScaler()),\n",
    "    ('logreg', LogisticRegression(max_iter=10000, random_state=42))\n",
    "])\n",
    "\n",
    "params_grid= {\n",
    "    'poly__degree':[1,2,3],\n",
    "    'logreg__penalty':[ 'l2', None],\n",
    "    'logreg__C':[0.01, 0.1, 1]\n",
    "}\n",
    "random_search_log_reg = RandomizedSearchCV(estimator=pipeline, param_distributions=params_grid, n_iter=15, cv=5, n_jobs =-1, scoring='roc_auc')\n",
    "random_search_log_reg.fit(X_train, y_train)\n",
    "random_log_reg = random_search_log_reg.best_estimator_.predict_proba(X_test)[:, 1]\n",
    "roc_auc_score(y_score=random_log_reg, y_true= y_test)\n",
    "\n"
   ]
  },
  {
   "cell_type": "markdown",
   "metadata": {},
   "source": [
    "### Discriminante lineal\n"
   ]
  },
  {
   "cell_type": "code",
   "execution_count": 7,
   "metadata": {},
   "outputs": [
    {
     "data": {
      "text/plain": [
       "0.8279248494754109"
      ]
     },
     "execution_count": 7,
     "metadata": {},
     "output_type": "execute_result"
    }
   ],
   "source": [
    "pipeline = Pipeline([\n",
    "    (\"scaler\", StandardScaler()),\n",
    "    (\"model\", discriminant_analysis.LinearDiscriminantAnalysis())\n",
    "])\n",
    "\n",
    "pipeline.fit(X_train, y_train)\n",
    "prob_discriminante_lineal = pipeline.predict_proba(X_test)[:, 1]\n",
    "roc_auc_score(y_score=prob_discriminante_lineal, y_true= y_test)\n"
   ]
  },
  {
   "cell_type": "markdown",
   "metadata": {},
   "source": [
    "### Red Neuronal"
   ]
  },
  {
   "cell_type": "code",
   "execution_count": 9,
   "metadata": {},
   "outputs": [
    {
     "data": {
      "text/plain": [
       "0.8371569154506827"
      ]
     },
     "execution_count": 9,
     "metadata": {},
     "output_type": "execute_result"
    }
   ],
   "source": [
    "pipeline = Pipeline([\n",
    "    ('scaler', StandardScaler()),\n",
    "    ('nn', MLPClassifier(max_iter = 1000, random_state=42))\n",
    "])\n",
    "\n",
    "params_grid = {\n",
    "    'nn__hidden_layer_sizes': [(5,5,5), (10,), (100,), (10,10)],\n",
    "    'nn__activation': ['tanh', 'relu', 'logistic'],\n",
    "    'nn__alpha': [0.1, 0.01]\n",
    "}\n",
    " \n",
    "random_search_red_neuronal = RandomizedSearchCV(estimator=pipeline, param_distributions=params_grid, n_iter=15, cv=5, n_jobs =-1, scoring='roc_auc')\n",
    "random_search_red_neuronal.fit(X_train, y_train)\n",
    "random_red_neuronal = random_search_red_neuronal.best_estimator_.predict_proba(X_test)[:, 1]\n",
    "roc_auc_score(y_score=random_red_neuronal, y_true= y_test)\n",
    "\n"
   ]
  },
  {
   "cell_type": "markdown",
   "metadata": {},
   "source": [
    "## AUC Modelos"
   ]
  },
  {
   "cell_type": "code",
   "execution_count": 17,
   "metadata": {},
   "outputs": [
    {
     "data": {
      "text/html": [
       "<div>\n",
       "<style scoped>\n",
       "    .dataframe tbody tr th:only-of-type {\n",
       "        vertical-align: middle;\n",
       "    }\n",
       "\n",
       "    .dataframe tbody tr th {\n",
       "        vertical-align: top;\n",
       "    }\n",
       "\n",
       "    .dataframe thead th {\n",
       "        text-align: right;\n",
       "    }\n",
       "</style>\n",
       "<table border=\"1\" class=\"dataframe\">\n",
       "  <thead>\n",
       "    <tr style=\"text-align: right;\">\n",
       "      <th></th>\n",
       "      <th>KNN</th>\n",
       "      <th>Regresión logística</th>\n",
       "      <th>Discriminante lineal</th>\n",
       "      <th>Red neuronal</th>\n",
       "    </tr>\n",
       "  </thead>\n",
       "  <tbody>\n",
       "    <tr>\n",
       "      <th>AUC</th>\n",
       "      <td>0.802622</td>\n",
       "      <td>0.838511</td>\n",
       "      <td>0.827925</td>\n",
       "      <td>0.837157</td>\n",
       "    </tr>\n",
       "  </tbody>\n",
       "</table>\n",
       "</div>"
      ],
      "text/plain": [
       "          KNN  Regresión logística  Discriminante lineal  Red neuronal\n",
       "AUC  0.802622             0.838511              0.827925      0.837157"
      ]
     },
     "execution_count": 17,
     "metadata": {},
     "output_type": "execute_result"
    }
   ],
   "source": [
    "AUC = pd.DataFrame({\n",
    "    'KNN': roc_auc_score(y_score=random_knn, y_true= y_test),\n",
    "    'Regresión logística': roc_auc_score(y_score=random_log_reg, y_true= y_test),\n",
    "    'Discriminante lineal': roc_auc_score(y_score=prob_discriminante_lineal, y_true= y_test),\n",
    "    'Red neuronal': roc_auc_score(y_score=random_red_neuronal, y_true= y_test)\n",
    "},index=['AUC'])\n",
    "\n",
    "AUC"
   ]
  }
 ],
 "metadata": {
  "kernelspec": {
   "display_name": "base",
   "language": "python",
   "name": "python3"
  },
  "language_info": {
   "codemirror_mode": {
    "name": "ipython",
    "version": 3
   },
   "file_extension": ".py",
   "mimetype": "text/x-python",
   "name": "python",
   "nbconvert_exporter": "python",
   "pygments_lexer": "ipython3",
   "version": "3.11.4"
  }
 },
 "nbformat": 4,
 "nbformat_minor": 2
}
