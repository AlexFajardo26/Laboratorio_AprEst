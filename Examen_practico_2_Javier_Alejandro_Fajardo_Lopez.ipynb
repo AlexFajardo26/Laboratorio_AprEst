{
 "cells": [
  {
   "cell_type": "code",
   "execution_count": 1,
   "metadata": {},
   "outputs": [],
   "source": [
    "import pandas as pd\n",
    "import matplotlib.pyplot as plt\n",
    "import numpy as np\n",
    "from sklearn.model_selection import train_test_split, GridSearchCV, RandomizedSearchCV\n",
    "from sklearn.linear_model import LogisticRegression\n",
    "from sklearn import linear_model\n",
    "from sklearn.pipeline import Pipeline\n",
    "from sklearn.preprocessing import StandardScaler, PolynomialFeatures\n",
    "from sklearn.metrics import roc_auc_score\n",
    "from sklearn.neighbors import KNeighborsClassifier"
   ]
  },
  {
   "cell_type": "markdown",
   "metadata": {},
   "source": [
    "## Datos"
   ]
  },
  {
   "cell_type": "code",
   "execution_count": 4,
   "metadata": {},
   "outputs": [],
   "source": [
    "df=pd.read_csv('diabetes.csv')\n",
    "df= pd.get_dummies(df, columns=['smoking_history', 'gender'])\n",
    "target = 'diabetes'\n",
    "y = df[target]\n",
    "X=df.copy()\n",
    "X=X.drop(target, axis=1)\n",
    "X_train, X_test, y_train, y_test = train_test_split(X, y, test_size=0.2, random_state=42)"
   ]
  },
  {
   "cell_type": "markdown",
   "metadata": {},
   "source": [
    "## Modelos todas las variables"
   ]
  },
  {
   "cell_type": "markdown",
   "metadata": {},
   "source": [
    "### Knn clasificador"
   ]
  },
  {
   "cell_type": "code",
   "execution_count": null,
   "metadata": {},
   "outputs": [
    {
     "data": {
      "text/plain": [
       "0.8127733435381588"
      ]
     },
     "execution_count": 25,
     "metadata": {},
     "output_type": "execute_result"
    }
   ],
   "source": [
    "pipeline = Pipeline([\n",
    "    ('scaler', StandardScaler()),  # Normalización de datos\n",
    "    ('knn', KNeighborsClassifier())  \n",
    "])\n",
    "\n",
    "params_grid = {\n",
    "    'knn__n_neighbors': np.arange(1,30), \n",
    "    'knn__weights': ['uniform', 'distance'],\n",
    "    'knn__metric': ['euclidean', 'manhattan'] \n",
    "}\n",
    "random_search_knn = RandomizedSearchCV(estimator=pipeline, param_distributions=params_grid, n_iter=15, cv=5, n_jobs =-1, scoring='roc_auc')\n",
    "random_search_knn.fit(X_train, y_train)\n",
    "random_knn = random_search_knn.best_estimator_.predict_proba(X_test)[:, 1]\n",
    "roc_auc_score(y_score=random_knn, y_true= y_test)"
   ]
  },
  {
   "cell_type": "markdown",
   "metadata": {},
   "source": [
    "### Regresion Lógistica"
   ]
  },
  {
   "cell_type": "code",
   "execution_count": 5,
   "metadata": {},
   "outputs": [
    {
     "name": "stderr",
     "output_type": "stream",
     "text": [
      "c:\\Users\\Alejandro\\.conda\\Lib\\site-packages\\sklearn\\linear_model\\_logistic.py:1207: UserWarning: Setting penalty=None will ignore the C and l1_ratio parameters\n",
      "  warnings.warn(\n"
     ]
    },
    {
     "data": {
      "text/plain": [
       "0.8385106381208098"
      ]
     },
     "execution_count": 5,
     "metadata": {},
     "output_type": "execute_result"
    }
   ],
   "source": [
    "pipeline = Pipeline([\n",
    "    ('poly', PolynomialFeatures(include_bias=False)),  \n",
    "    ('scaler', StandardScaler()),\n",
    "    ('logreg', LogisticRegression(max_iter=10000, random_state=42))\n",
    "])\n",
    "\n",
    "params_grid= {\n",
    "    'poly__degree':[1,2,3],\n",
    "    'logreg__penalty':[ 'l2', None],\n",
    "    'logreg__C':[0.01, 0.1, 1]\n",
    "}\n",
    "random_search_log_reg = RandomizedSearchCV(estimator=pipeline, param_distributions=params_grid, n_iter=15, cv=5, n_jobs =-1, scoring='roc_auc')\n",
    "random_search_log_reg.fit(X_train, y_train)\n",
    "random_log_reg = random_search_log_reg.best_estimator_.predict_proba(X_test)[:, 1]\n",
    "roc_auc_score(y_score=random_log_reg, y_true= y_test)\n",
    "\n"
   ]
  }
 ],
 "metadata": {
  "kernelspec": {
   "display_name": "base",
   "language": "python",
   "name": "python3"
  },
  "language_info": {
   "codemirror_mode": {
    "name": "ipython",
    "version": 3
   },
   "file_extension": ".py",
   "mimetype": "text/x-python",
   "name": "python",
   "nbconvert_exporter": "python",
   "pygments_lexer": "ipython3",
   "version": "3.11.4"
  }
 },
 "nbformat": 4,
 "nbformat_minor": 2
}
